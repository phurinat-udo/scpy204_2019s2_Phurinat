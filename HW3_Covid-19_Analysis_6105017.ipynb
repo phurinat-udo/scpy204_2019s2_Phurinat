{
 "cells": [
  {
   "cell_type": "code",
   "execution_count": 33,
   "metadata": {},
   "outputs": [],
   "source": [
    "import numpy as np\n",
    "import pandas as pd\n",
    "import matplotlib.pyplot as plt\n",
    "#plt.style.use('seaborn-whitegrid')"
   ]
  },
  {
   "cell_type": "code",
   "execution_count": 3,
   "metadata": {},
   "outputs": [
    {
     "data": {
      "text/html": [
       "<div>\n",
       "<style scoped>\n",
       "    .dataframe tbody tr th:only-of-type {\n",
       "        vertical-align: middle;\n",
       "    }\n",
       "\n",
       "    .dataframe tbody tr th {\n",
       "        vertical-align: top;\n",
       "    }\n",
       "\n",
       "    .dataframe thead th {\n",
       "        text-align: right;\n",
       "    }\n",
       "</style>\n",
       "<table border=\"1\" class=\"dataframe\">\n",
       "  <thead>\n",
       "    <tr style=\"text-align: right;\">\n",
       "      <th></th>\n",
       "      <th>dateRep</th>\n",
       "      <th>day</th>\n",
       "      <th>month</th>\n",
       "      <th>year</th>\n",
       "      <th>cases</th>\n",
       "      <th>deaths</th>\n",
       "      <th>countriesAndTerritories</th>\n",
       "      <th>geoId</th>\n",
       "      <th>countryterritoryCode</th>\n",
       "      <th>popData2018</th>\n",
       "    </tr>\n",
       "  </thead>\n",
       "  <tbody>\n",
       "    <tr>\n",
       "      <th>0</th>\n",
       "      <td>12/04/2020</td>\n",
       "      <td>12</td>\n",
       "      <td>4</td>\n",
       "      <td>2020</td>\n",
       "      <td>34</td>\n",
       "      <td>3</td>\n",
       "      <td>Afghanistan</td>\n",
       "      <td>AF</td>\n",
       "      <td>AFG</td>\n",
       "      <td>37172386.0</td>\n",
       "    </tr>\n",
       "    <tr>\n",
       "      <th>1</th>\n",
       "      <td>11/04/2020</td>\n",
       "      <td>11</td>\n",
       "      <td>4</td>\n",
       "      <td>2020</td>\n",
       "      <td>37</td>\n",
       "      <td>0</td>\n",
       "      <td>Afghanistan</td>\n",
       "      <td>AF</td>\n",
       "      <td>AFG</td>\n",
       "      <td>37172386.0</td>\n",
       "    </tr>\n",
       "    <tr>\n",
       "      <th>2</th>\n",
       "      <td>10/04/2020</td>\n",
       "      <td>10</td>\n",
       "      <td>4</td>\n",
       "      <td>2020</td>\n",
       "      <td>61</td>\n",
       "      <td>1</td>\n",
       "      <td>Afghanistan</td>\n",
       "      <td>AF</td>\n",
       "      <td>AFG</td>\n",
       "      <td>37172386.0</td>\n",
       "    </tr>\n",
       "    <tr>\n",
       "      <th>3</th>\n",
       "      <td>09/04/2020</td>\n",
       "      <td>9</td>\n",
       "      <td>4</td>\n",
       "      <td>2020</td>\n",
       "      <td>56</td>\n",
       "      <td>3</td>\n",
       "      <td>Afghanistan</td>\n",
       "      <td>AF</td>\n",
       "      <td>AFG</td>\n",
       "      <td>37172386.0</td>\n",
       "    </tr>\n",
       "    <tr>\n",
       "      <th>4</th>\n",
       "      <td>08/04/2020</td>\n",
       "      <td>8</td>\n",
       "      <td>4</td>\n",
       "      <td>2020</td>\n",
       "      <td>30</td>\n",
       "      <td>4</td>\n",
       "      <td>Afghanistan</td>\n",
       "      <td>AF</td>\n",
       "      <td>AFG</td>\n",
       "      <td>37172386.0</td>\n",
       "    </tr>\n",
       "    <tr>\n",
       "      <th>...</th>\n",
       "      <td>...</td>\n",
       "      <td>...</td>\n",
       "      <td>...</td>\n",
       "      <td>...</td>\n",
       "      <td>...</td>\n",
       "      <td>...</td>\n",
       "      <td>...</td>\n",
       "      <td>...</td>\n",
       "      <td>...</td>\n",
       "      <td>...</td>\n",
       "    </tr>\n",
       "    <tr>\n",
       "      <th>10327</th>\n",
       "      <td>25/03/2020</td>\n",
       "      <td>25</td>\n",
       "      <td>3</td>\n",
       "      <td>2020</td>\n",
       "      <td>0</td>\n",
       "      <td>0</td>\n",
       "      <td>Zimbabwe</td>\n",
       "      <td>ZW</td>\n",
       "      <td>ZWE</td>\n",
       "      <td>14439018.0</td>\n",
       "    </tr>\n",
       "    <tr>\n",
       "      <th>10328</th>\n",
       "      <td>24/03/2020</td>\n",
       "      <td>24</td>\n",
       "      <td>3</td>\n",
       "      <td>2020</td>\n",
       "      <td>0</td>\n",
       "      <td>1</td>\n",
       "      <td>Zimbabwe</td>\n",
       "      <td>ZW</td>\n",
       "      <td>ZWE</td>\n",
       "      <td>14439018.0</td>\n",
       "    </tr>\n",
       "    <tr>\n",
       "      <th>10329</th>\n",
       "      <td>23/03/2020</td>\n",
       "      <td>23</td>\n",
       "      <td>3</td>\n",
       "      <td>2020</td>\n",
       "      <td>0</td>\n",
       "      <td>0</td>\n",
       "      <td>Zimbabwe</td>\n",
       "      <td>ZW</td>\n",
       "      <td>ZWE</td>\n",
       "      <td>14439018.0</td>\n",
       "    </tr>\n",
       "    <tr>\n",
       "      <th>10330</th>\n",
       "      <td>22/03/2020</td>\n",
       "      <td>22</td>\n",
       "      <td>3</td>\n",
       "      <td>2020</td>\n",
       "      <td>1</td>\n",
       "      <td>0</td>\n",
       "      <td>Zimbabwe</td>\n",
       "      <td>ZW</td>\n",
       "      <td>ZWE</td>\n",
       "      <td>14439018.0</td>\n",
       "    </tr>\n",
       "    <tr>\n",
       "      <th>10331</th>\n",
       "      <td>21/03/2020</td>\n",
       "      <td>21</td>\n",
       "      <td>3</td>\n",
       "      <td>2020</td>\n",
       "      <td>1</td>\n",
       "      <td>0</td>\n",
       "      <td>Zimbabwe</td>\n",
       "      <td>ZW</td>\n",
       "      <td>ZWE</td>\n",
       "      <td>14439018.0</td>\n",
       "    </tr>\n",
       "  </tbody>\n",
       "</table>\n",
       "<p>10332 rows × 10 columns</p>\n",
       "</div>"
      ],
      "text/plain": [
       "          dateRep  day  month  year  cases  deaths countriesAndTerritories  \\\n",
       "0      12/04/2020   12      4  2020     34       3             Afghanistan   \n",
       "1      11/04/2020   11      4  2020     37       0             Afghanistan   \n",
       "2      10/04/2020   10      4  2020     61       1             Afghanistan   \n",
       "3      09/04/2020    9      4  2020     56       3             Afghanistan   \n",
       "4      08/04/2020    8      4  2020     30       4             Afghanistan   \n",
       "...           ...  ...    ...   ...    ...     ...                     ...   \n",
       "10327  25/03/2020   25      3  2020      0       0                Zimbabwe   \n",
       "10328  24/03/2020   24      3  2020      0       1                Zimbabwe   \n",
       "10329  23/03/2020   23      3  2020      0       0                Zimbabwe   \n",
       "10330  22/03/2020   22      3  2020      1       0                Zimbabwe   \n",
       "10331  21/03/2020   21      3  2020      1       0                Zimbabwe   \n",
       "\n",
       "      geoId countryterritoryCode  popData2018  \n",
       "0        AF                  AFG   37172386.0  \n",
       "1        AF                  AFG   37172386.0  \n",
       "2        AF                  AFG   37172386.0  \n",
       "3        AF                  AFG   37172386.0  \n",
       "4        AF                  AFG   37172386.0  \n",
       "...     ...                  ...          ...  \n",
       "10327    ZW                  ZWE   14439018.0  \n",
       "10328    ZW                  ZWE   14439018.0  \n",
       "10329    ZW                  ZWE   14439018.0  \n",
       "10330    ZW                  ZWE   14439018.0  \n",
       "10331    ZW                  ZWE   14439018.0  \n",
       "\n",
       "[10332 rows x 10 columns]"
      ]
     },
     "execution_count": 3,
     "metadata": {},
     "output_type": "execute_result"
    }
   ],
   "source": [
    "covid_data = pd.read_csv('COVID-19-data-worldwide.csv')\n",
    "covid_data"
   ]
  },
  {
   "cell_type": "code",
   "execution_count": 4,
   "metadata": {},
   "outputs": [],
   "source": [
    "filterTH = covid_data['geoId']=='TH'\n",
    "detailTH = covid_data[filterTH]\n",
    "\n",
    "filterJP = covid_data['geoId']=='JP'\n",
    "detailJP = covid_data[filterJP]\n",
    "\n",
    "filterIT = covid_data['geoId']=='IT'\n",
    "detailIT = covid_data[filterIT]\n",
    "\n",
    "filterSG = covid_data['geoId']=='SG'\n",
    "detailSG = covid_data[filterSG]\n",
    "\n",
    "filterKR = covid_data['geoId']=='KR'\n",
    "detailKR = covid_data[filterKR]\n",
    "\n",
    "filterTW = covid_data['geoId']=='TW'\n",
    "detailTW = covid_data[filterTW]\n",
    "\n",
    "filterIN = covid_data['geoId']=='IN'\n",
    "detailIN = covid_data[filterIN]\n",
    "\n",
    "filterNZ = covid_data['geoId']=='NZ'\n",
    "detailNZ = covid_data[filterNZ]\n",
    "\n",
    "filterCA = covid_data['geoId']=='CA'\n",
    "detailCA = covid_data[filterCA]\n",
    "\n",
    "filterEG = covid_data['geoId']=='EG'\n",
    "detailEG = covid_data[filterEG]\n",
    "#print(detailEG)\n",
    "#print(detailCA)"
   ]
  },
  {
   "cell_type": "code",
   "execution_count": 5,
   "metadata": {},
   "outputs": [],
   "source": [
    "caseTH=detailTH['cases']\n",
    "#caseTH"
   ]
  },
  {
   "cell_type": "code",
   "execution_count": 7,
   "metadata": {},
   "outputs": [
    {
     "name": "stdout",
     "output_type": "stream",
     "text": [
      "0.005333160514063563 1.4522821576763485\n"
     ]
    }
   ],
   "source": [
    "caseJP = detailJP['cases']\n",
    "totalJP = np.sum(caseJP)\n",
    "\n",
    "dieJP = detailJP['deaths']\n",
    "deathJP = np.sum(dieJP)\n",
    "\n",
    "dateJP = detailJP['dateRep']\n",
    "dateJP = pd.to_datetime(dateJP, format='%d/%m/%Y')\n",
    "\n",
    "caspopJP = (totalJP/126529100)*100\n",
    "diecasJP = (deathJP/totalJP)*100\n",
    "\n",
    "accumuJP = totalJP\n",
    "JPcaseAccum_des = np.array([])\n",
    "for JPcase in detailJP['cases']:\n",
    "    JPcaseAccum_des = np.append(JPcaseAccum_des, accumuJP)\n",
    "    accumuJP = accumuJP - JPcase\n",
    "\n",
    "#print(JPcaseAccum_des)\n",
    "#print(caseJP, dieJP)\n",
    "#print(totalJP, deathJP, dateJP)\n",
    "print(caspopJP, diecasJP)"
   ]
  },
  {
   "cell_type": "code",
   "execution_count": 8,
   "metadata": {},
   "outputs": [
    {
     "name": "stdout",
     "output_type": "stream",
     "text": [
      "0.25197379972885897 12.786413696632975\n"
     ]
    }
   ],
   "source": [
    "caseIT = detailIT['cases']\n",
    "totalIT = np.sum(caseIT)\n",
    "\n",
    "dieIT = detailIT['deaths']\n",
    "deathIT = np.sum(dieIT)\n",
    "\n",
    "dateIT = detailIT['dateRep']\n",
    "dateIT = pd.to_datetime(dateIT, format='%d/%m/%Y')\n",
    "\n",
    "caspopIT = (totalIT/60431283)*100\n",
    "diecasIT = (deathIT/totalIT)*100\n",
    "\n",
    "accumuIT = totalIT\n",
    "ITcaseAccum_des = np.array([])\n",
    "for ITcase in detailIT['cases']:\n",
    "    ITcaseAccum_des = np.append(ITcaseAccum_des, accumuIT)\n",
    "    accumuIT = accumuIT - ITcase\n",
    "\n",
    "#print(ITcaseAccum_des)\n",
    "#print(caseJP, dieJP)\n",
    "#print(totalJP, deathJP, dateJP)\n",
    "print(caspopIT, diecasIT)"
   ]
  },
  {
   "cell_type": "code",
   "execution_count": 9,
   "metadata": {},
   "outputs": [
    {
     "name": "stdout",
     "output_type": "stream",
     "text": [
      "0.040771982642733864 0.34797738147020446\n"
     ]
    }
   ],
   "source": [
    "caseSG = detailSG['cases']\n",
    "totalSG = np.sum(caseSG)\n",
    "\n",
    "dieSG = detailSG['deaths']\n",
    "deathSG = np.sum(dieSG)\n",
    "\n",
    "dateSG = detailSG['dateRep']\n",
    "dateSG = pd.to_datetime(dateSG, format='%d/%m/%Y')\n",
    "\n",
    "caspopSG = (totalSG/5638676)*100\n",
    "diecasSG = (deathSG/totalSG)*100\n",
    "\n",
    "accumuSG = totalSG\n",
    "SGcaseAccum_des = np.array([])\n",
    "for SGcase in detailSG['cases']:\n",
    "    SGcaseAccum_des = np.append(SGcaseAccum_des, accumuSG)\n",
    "    accumuSG = accumuSG - SGcase\n",
    "\n",
    "#print(JPcaseAccum_des)\n",
    "#print(caseJP, dieJP)\n",
    "#print(totalSG, deathSG)\n",
    "print(caspopSG, diecasSG)"
   ]
  },
  {
   "cell_type": "code",
   "execution_count": 10,
   "metadata": {},
   "outputs": [
    {
     "name": "stdout",
     "output_type": "stream",
     "text": [
      "0.02035818317623912 2.0357686453576864\n"
     ]
    }
   ],
   "source": [
    "caseKR = detailKR['cases']\n",
    "totalKR = np.sum(caseKR)\n",
    "\n",
    "dieKR = detailKR['deaths']\n",
    "deathKR = np.sum(dieKR)\n",
    "\n",
    "dateKR = detailKR['dateRep']\n",
    "dateKR = pd.to_datetime(dateKR, format='%d/%m/%Y')\n",
    "\n",
    "caspopKR = (totalKR/51635256)*100\n",
    "diecasKR = (deathKR/totalKR)*100\n",
    "\n",
    "accumuKR = totalKR\n",
    "KRcaseAccum_des = np.array([])\n",
    "for KRcase in detailKR['cases']:\n",
    "    KRcaseAccum_des = np.append(KRcaseAccum_des, accumuKR)\n",
    "    accumuKR = accumuKR - KRcase\n",
    "\n",
    "#print(KRcaseAccum_des)\n",
    "#print(caseJP, dieJP)\n",
    "#print(totalKR, deathKR)\n",
    "print(caspopKR, diecasKR)"
   ]
  },
  {
   "cell_type": "code",
   "execution_count": 11,
   "metadata": {},
   "outputs": [
    {
     "name": "stdout",
     "output_type": "stream",
     "text": [
      "0.0016189767965722435 1.5584415584415585\n"
     ]
    }
   ],
   "source": [
    "caseTW = detailTW['cases']\n",
    "totalTW = np.sum(caseTW)\n",
    "\n",
    "dieTW = detailTW['deaths']\n",
    "deathTW = np.sum(dieTW)\n",
    "\n",
    "dateTW = detailTW['dateRep']\n",
    "dateTW = pd.to_datetime(dateTW, format='%d/%m/%Y')\n",
    "\n",
    "caspopTW = (totalTW/23780452)*100\n",
    "diecasTW = (deathTW/totalTW)*100\n",
    "\n",
    "accumuTW = totalTW\n",
    "TWcaseAccum_des = np.array([])\n",
    "for TWcase in detailTW['cases']:\n",
    "    TWcaseAccum_des = np.append(TWcaseAccum_des, accumuTW)\n",
    "    accumuTW = accumuTW - TWcase\n",
    "\n",
    "#print(TWcaseAccum_des)\n",
    "#print(caseJP, dieJP)\n",
    "#print(totalKR, deathKR, dateKR)\n",
    "print(caspopTW, diecasTW)"
   ]
  },
  {
   "cell_type": "code",
   "execution_count": 12,
   "metadata": {},
   "outputs": [
    {
     "name": "stdout",
     "output_type": "stream",
     "text": [
      "0.0006177654132692403 3.267113451412159\n"
     ]
    }
   ],
   "source": [
    "caseIN = detailIN['cases']\n",
    "totalIN = np.sum(caseIN)\n",
    "\n",
    "dieIN = detailIN['deaths']\n",
    "deathIN = np.sum(dieIN)\n",
    "\n",
    "dateIN = detailIN['dateRep']\n",
    "dateIN = pd.to_datetime(dateIN, format='%d/%m/%Y')\n",
    "\n",
    "caspopIN = (totalIN/1.352617e+09)*100\n",
    "diecasIN = (deathIN/totalIN)*100\n",
    "\n",
    "accumuIN = totalIN\n",
    "INcaseAccum_des = np.array([])\n",
    "for INcase in detailIN['cases']:\n",
    "    INcaseAccum_des = np.append(INcaseAccum_des, accumuIN)\n",
    "    accumuIN = accumuIN - INcase\n",
    "\n",
    "#print(INcaseAccum_des)\n",
    "#print(caseJP, dieJP)\n",
    "#print(totalKR, deathKR, dateKR)\n",
    "print(caspopIN, diecasIN)"
   ]
  },
  {
   "cell_type": "code",
   "execution_count": 13,
   "metadata": {},
   "outputs": [
    {
     "name": "stdout",
     "output_type": "stream",
     "text": [
      "0.02147170197523283 0.3813155386081983\n"
     ]
    }
   ],
   "source": [
    "caseNZ = detailNZ['cases']\n",
    "totalNZ = np.sum(caseNZ)\n",
    "\n",
    "dieNZ = detailNZ['deaths']\n",
    "deathNZ = np.sum(dieNZ)\n",
    "\n",
    "dateNZ = detailNZ['dateRep']\n",
    "dateNZ = pd.to_datetime(dateNZ, format='%d/%m/%Y')\n",
    "\n",
    "caspopNZ = (totalNZ/4885500)*100\n",
    "diecasNZ = (deathNZ/totalNZ)*100\n",
    "\n",
    "accumuNZ = totalNZ\n",
    "NZcaseAccum_des = np.array([])\n",
    "for NZcase in detailNZ['cases']:\n",
    "    NZcaseAccum_des = np.append(NZcaseAccum_des, accumuNZ)\n",
    "    accumuNZ = accumuNZ - NZcase\n",
    "\n",
    "#print(NZcaseAccum_des)\n",
    "#print(caseJP, dieJP)\n",
    "#print(totalNZ, deathNZ, dateNZ)\n",
    "print(caspopNZ, diecasNZ)"
   ]
  },
  {
   "cell_type": "code",
   "execution_count": 14,
   "metadata": {},
   "outputs": [
    {
     "name": "stdout",
     "output_type": "stream",
     "text": [
      "0.06287565919466052 2.8024548302647956\n"
     ]
    }
   ],
   "source": [
    "caseCA = detailCA['cases']\n",
    "totalCA = np.sum(caseCA)\n",
    "\n",
    "dieCA = detailCA['deaths']\n",
    "deathCA = np.sum(dieCA)\n",
    "\n",
    "dateCA = detailCA['dateRep']\n",
    "dateCA = pd.to_datetime(dateCA, format='%d/%m/%Y')\n",
    "\n",
    "caspopCA = (totalCA/37058856)*100\n",
    "diecasCA = (deathCA/totalCA)*100\n",
    "\n",
    "accumuCA = totalCA\n",
    "CAcaseAccum_des = np.array([])\n",
    "for CAcase in detailCA['cases']:\n",
    "    CAcaseAccum_des = np.append(CAcaseAccum_des, accumuCA)\n",
    "    accumuCA = accumuCA - CAcase\n",
    "\n",
    "#print(NZcaseAccum_des)\n",
    "#print(caseJP, dieJP)\n",
    "#print(totalCA, deathCA)\n",
    "print(caspopCA, diecasCA)"
   ]
  },
  {
   "cell_type": "code",
   "execution_count": 15,
   "metadata": {},
   "outputs": [
    {
     "name": "stdout",
     "output_type": "stream",
     "text": [
      "0.0019700560622684022 7.529654461062403\n"
     ]
    }
   ],
   "source": [
    "caseEG = detailEG['cases']\n",
    "totalEG = np.sum(caseEG)\n",
    "\n",
    "dieEG = detailEG['deaths']\n",
    "deathEG = np.sum(dieEG)\n",
    "\n",
    "dateEG = detailEG['dateRep']\n",
    "dateEG = pd.to_datetime(dateEG, format='%d/%m/%Y')\n",
    "\n",
    "caspopEG = (totalEG/98423595)*100\n",
    "diecasEG = (deathEG/totalEG)*100\n",
    "\n",
    "accumuEG = totalEG\n",
    "EGcaseAccum_des = np.array([])\n",
    "for EGcase in detailEG['cases']:\n",
    "    EGcaseAccum_des = np.append(EGcaseAccum_des, accumuEG)\n",
    "    accumuEG = accumuEG - EGcase\n",
    "\n",
    "#print(NZcaseAccum_des)\n",
    "#print(caseJP, dieJP)\n",
    "#print(totalNZ, deathNZ, dateNZ)\n",
    "print(caspopEG, diecasEG)"
   ]
  },
  {
   "cell_type": "code",
   "execution_count": 16,
   "metadata": {},
   "outputs": [
    {
     "name": "stdout",
     "output_type": "stream",
     "text": [
      "Total cases in Thailand is: 2551\n"
     ]
    }
   ],
   "source": [
    "totalTH = np.sum(caseTH)\n",
    "print('Total cases in Thailand is:',totalTH) "
   ]
  },
  {
   "cell_type": "code",
   "execution_count": 17,
   "metadata": {},
   "outputs": [
    {
     "name": "stdout",
     "output_type": "stream",
     "text": [
      "Total deaths in Thailand is: 38\n"
     ]
    }
   ],
   "source": [
    "dieTH = detailTH['deaths']\n",
    "deathTH = np.sum(dieTH)\n",
    "print('Total deaths in Thailand is:',deathTH)"
   ]
  },
  {
   "cell_type": "code",
   "execution_count": 18,
   "metadata": {},
   "outputs": [
    {
     "name": "stdout",
     "output_type": "stream",
     "text": [
      "Percent of cases per Thai population is: 0.003674282345394524\n"
     ]
    }
   ],
   "source": [
    "casperpop = (totalTH/69428524)*100\n",
    "print('Percent of cases per Thai population is:',casperpop)"
   ]
  },
  {
   "cell_type": "code",
   "execution_count": 19,
   "metadata": {},
   "outputs": [
    {
     "name": "stdout",
     "output_type": "stream",
     "text": [
      "Percent of deaths per Thai cases is: 1.4896119168953352\n"
     ]
    }
   ],
   "source": [
    "diepercas = (deathTH/totalTH)*100\n",
    "print('Percent of deaths per Thai cases is:',diepercas)"
   ]
  },
  {
   "cell_type": "code",
   "execution_count": 20,
   "metadata": {},
   "outputs": [],
   "source": [
    "dateTH = detailTH['dateRep']\n",
    "dateTH = pd.to_datetime(dateTH, format='%d/%m/%Y')\n",
    "#print(dateTH)"
   ]
  },
  {
   "cell_type": "code",
   "execution_count": 21,
   "metadata": {},
   "outputs": [],
   "source": [
    "accumuTH = totalTH\n",
    "THcaseAccum_des = np.array([])\n",
    "for THcase in detailTH['cases']:\n",
    "    THcaseAccum_des = np.append(THcaseAccum_des, accumuTH)\n",
    "    accumuTH = accumuTH - THcase\n",
    "#THcaseAccum_des"
   ]
  },
  {
   "cell_type": "code",
   "execution_count": 29,
   "metadata": {},
   "outputs": [
    {
     "data": {
      "image/png": "[encoded data removed]",
      "text/plain": [
       "<Figure size 432x288 with 1 Axes>"
      ]
     },
     "metadata": {
      "needs_background": "light"
     },
     "output_type": "display_data"
    }
   ],
   "source": [
    "x_TH = dateTH\n",
    "y_TH = THcaseAccum_des\n",
    "x_JP = dateJP\n",
    "y_JP = JPcaseAccum_des\n",
    "x_IT = dateIT\n",
    "y_IT = ITcaseAccum_des\n",
    "x_SG = dateSG\n",
    "y_SG = SGcaseAccum_des\n",
    "x_KR = dateKR\n",
    "y_KR = KRcaseAccum_des\n",
    "x_TW = dateTW\n",
    "y_TW = TWcaseAccum_des\n",
    "x_IN = dateIN\n",
    "y_IN = INcaseAccum_des\n",
    "x_NZ = dateNZ\n",
    "y_NZ = NZcaseAccum_des\n",
    "x_CA = dateCA\n",
    "y_CA = CAcaseAccum_des\n",
    "x_EG = dateEG\n",
    "y_EG = EGcaseAccum_des\n",
    "#y_2 = np.arange(1, 98)\n",
    "\n",
    "figure = plt.figure(0)\n",
    "plt.yscale(\"log\")\n",
    "plt.plot_date(x_TH, y_TH, '-k', linewidth = 3.0, color='violet', label=\"Thailand\")\n",
    "plt.plot_date(x_JP, y_JP, '-k', linewidth = 3.0, color='green', label=\"Japan\")\n",
    "plt.plot_date(x_IT, y_IT, '-k', linewidth = 3.0, color='blue', label=\"Italy\")\n",
    "plt.plot_date(x_SG, y_SG, '-k', linewidth = 3.0, color='cyan', label=\"Singapore\")\n",
    "plt.plot_date(x_KR, y_KR, '-k', linewidth = 3.0, color='red', label=\"South Korea\")\n",
    "plt.plot_date(x_TW, y_TW, '-k', linewidth = 3.0, color='aquamarine', label=\"Taiwan\")\n",
    "plt.plot_date(x_IN, y_IN, '-k', linewidth = 3.0, color='darkviolet', label=\"India\")\n",
    "plt.plot_date(x_NZ, y_NZ, '-k', linewidth = 3.0, color='chocolate', label=\"New Zealand\")\n",
    "plt.plot_date(x_CA, y_CA, '-k', linewidth = 3.0, color='goldenrod', label=\"Canada\")\n",
    "plt.plot_date(x_EG, y_EG, '-k', linewidth = 3.0, color='firebrick', label=\"Egypt\")\n",
    "#plt.plot_date(x, y_2, '-ok', linewidth = 3.0, color='black', label=\"Test\")\n",
    "\n",
    "plt.title('Relation of Number of COVID-19 Patients to Colletion Dates', fontdict=None, loc='center', )\n",
    "plt.ylabel('Number of Accumulative Patients (People)')\n",
    "plt.xlabel('Collection Dates')\n",
    "plt.xticks(rotation=45)\n",
    "plt.legend(frameon=True, labelspacing=1, title='Country', bbox_to_anchor=(1.05, 1.0), loc='upper left')\n",
    "plt.savefig(figsize=(4,6), dpi=600,fname='World_Accumulative_Cases.png' ,bbox_inches='tight' )\n",
    "plt.show()\n",
    "#print(x,y)"
   ]
  },
  {
   "cell_type": "code",
   "execution_count": 32,
   "metadata": {},
   "outputs": [
    {
     "data": {
      "image/png": "[encoded data removed]",
      "text/plain": [
       "<Figure size 432x288 with 1 Axes>"
      ]
     },
     "metadata": {
      "needs_background": "light"
     },
     "output_type": "display_data"
    }
   ],
   "source": [
    "x_THd = casperpop\n",
    "y_THd = diepercas\n",
    "x_JPd = caspopJP\n",
    "y_JPd = diecasJP\n",
    "x_ITd = caspopIT\n",
    "y_ITd = diecasIT\n",
    "x_SGd = caspopSG\n",
    "y_SGd = diecasSG\n",
    "x_KRd = caspopKR\n",
    "y_KRd = diecasKR\n",
    "x_TWd = caspopTW\n",
    "y_TWd = diecasTW\n",
    "x_INd = caspopIN\n",
    "y_INd = diecasIN\n",
    "x_NZd = caspopNZ\n",
    "y_NZd = diecasNZ\n",
    "x_CAd = caspopCA\n",
    "y_CAd = diecasEG\n",
    "x_EGd = caspopEG\n",
    "y_EGd = diecasEG\n",
    "figure = plt.figure(0)\n",
    "plt.scatter(x_THd, y_THd, color='violet',s=np.sqrt(69428.524), alpha=0.3, label=\"Thailand\")\n",
    "plt.scatter(x_JPd, y_JPd, color='green', s=np.sqrt(126529.100), alpha=0.3, label=\"Japan\")\n",
    "plt.scatter(x_ITd, y_ITd, color='blue', s=np.sqrt(60431.283), alpha=0.3, label=\"Italy\")\n",
    "plt.scatter(x_SGd, y_SGd, color='cyan', s=np.sqrt(5638.676), alpha=0.3, label=\"Singapore\")\n",
    "plt.scatter(x_KRd, y_KRd, color='red', s=np.sqrt(51635.256), alpha=0.3, label=\"South Korea\")\n",
    "plt.scatter(x_TWd, y_TWd, color='yellow', s=np.sqrt(23780.452), alpha=0.3, label=\"Taiwan\")\n",
    "plt.scatter(x_INd, y_INd, color='darkviolet', s=np.sqrt(1.352617e+06), alpha=0.3, label=\"India\")\n",
    "plt.scatter(x_NZd, y_NZd, color='chocolate', s=np.sqrt(4885.500), alpha=0.3, label=\"New Zealand\")\n",
    "plt.scatter(x_CAd, y_CAd, color='goldenrod', s=np.sqrt(37058.856), alpha=0.3, label=\"Canada\")\n",
    "plt.scatter(x_EGd, y_EGd, color='firebrick', s=np.sqrt(98423.595), alpha=0.3, label=\"Egypt\")\n",
    "#plt.plot_date(x, y_2, '-ok', linewidth = 3.0, color='black', label=\"Test\")\n",
    "\n",
    "plt.title('Relation of Rate of COVID-19 Patients per Population,\\n Death per Patients and Population', fontdict=None, loc='center', )\n",
    "plt.ylabel('Precent of Deaths per Patients (%)')\n",
    "plt.xlabel('Precent of Patients per Populations (%)')\n",
    "plt.xticks(rotation=45)\n",
    "plt.legend(scatterpoints=1, frameon=True, labelspacing=1, title='Population', bbox_to_anchor=(1.05, 1.0), loc='upper left')\n",
    "#plt.colorbar();\n",
    "plt.savefig(figsize=(4,6), dpi=600,fname='WorldScatt.png' ,bbox_inches='tight')\n",
    "plt.show()\n",
    "#print(x,y)"
   ]
  },
  {
   "cell_type": "code",
   "execution_count": null,
   "metadata": {},
   "outputs": [],
   "source": []
  }
 ],
 "metadata": {
  "kernelspec": {
   "display_name": "Python 3",
   "language": "python",
   "name": "python3"
  },
  "language_info": {
   "codemirror_mode": {
    "name": "ipython",
    "version": 3
   },
   "file_extension": ".py",
   "mimetype": "text/x-python",
   "name": "python",
   "nbconvert_exporter": "python",
   "pygments_lexer": "ipython3",
   "version": "3.7.6"
  }
 },
 "nbformat": 4,
 "nbformat_minor": 4
}
